{
 "cells": [
  {
   "cell_type": "code",
   "execution_count": 5,
   "id": "ba549fb6",
   "metadata": {},
   "outputs": [
    {
     "name": "stdout",
     "output_type": "stream",
     "text": [
      "enter distance in km: 1.6\n",
      "km to miles is:  0.9941963786396909\n"
     ]
    }
   ],
   "source": [
    "#ANS1:\n",
    "km = float(input(\"enter distance in km: \"))\n",
    "#1 km = 0.62137119 miles\n",
    "miles = km/1.60934\n",
    "print(\"km to miles is: \",miles)"
   ]
  },
  {
   "cell_type": "code",
   "execution_count": 8,
   "id": "3076bf69",
   "metadata": {},
   "outputs": [
    {
     "name": "stdout",
     "output_type": "stream",
     "text": [
      "enter temperature in celsius: 35\n",
      "temperature in farenhiet is:  95.0\n"
     ]
    }
   ],
   "source": [
    "#ANS2:\n",
    "celsius = float(input(\"enter temperature in celsius: \"))\n",
    "farenhiet = (9/5)*celsius + 32\n",
    "print(\"temperature in farenhiet is: \",farenhiet)"
   ]
  },
  {
   "cell_type": "code",
   "execution_count": 10,
   "id": "8c92c0a3",
   "metadata": {},
   "outputs": [
    {
     "name": "stdout",
     "output_type": "stream",
     "text": [
      "enter year: 2002\n",
      "enter month: 9\n",
      "   September 2002\n",
      "Mo Tu We Th Fr Sa Su\n",
      "                   1\n",
      " 2  3  4  5  6  7  8\n",
      " 9 10 11 12 13 14 15\n",
      "16 17 18 19 20 21 22\n",
      "23 24 25 26 27 28 29\n",
      "30\n",
      "\n"
     ]
    }
   ],
   "source": [
    "#Ans3:\n",
    "import calendar\n",
    "year = int(input(\"enter year: \"))\n",
    "month = int(input(\"enter month: \"))\n",
    "print(calendar.month(year,month))"
   ]
  },
  {
   "cell_type": "code",
   "execution_count": 11,
   "id": "7f712be5",
   "metadata": {},
   "outputs": [
    {
     "name": "stdout",
     "output_type": "stream",
     "text": [
      "enter year: 2002\n",
      "                                  2002\n",
      "\n",
      "      January                   February                   March\n",
      "Mo Tu We Th Fr Sa Su      Mo Tu We Th Fr Sa Su      Mo Tu We Th Fr Sa Su\n",
      "    1  2  3  4  5  6                   1  2  3                   1  2  3\n",
      " 7  8  9 10 11 12 13       4  5  6  7  8  9 10       4  5  6  7  8  9 10\n",
      "14 15 16 17 18 19 20      11 12 13 14 15 16 17      11 12 13 14 15 16 17\n",
      "21 22 23 24 25 26 27      18 19 20 21 22 23 24      18 19 20 21 22 23 24\n",
      "28 29 30 31               25 26 27 28               25 26 27 28 29 30 31\n",
      "\n",
      "       April                      May                       June\n",
      "Mo Tu We Th Fr Sa Su      Mo Tu We Th Fr Sa Su      Mo Tu We Th Fr Sa Su\n",
      " 1  2  3  4  5  6  7             1  2  3  4  5                      1  2\n",
      " 8  9 10 11 12 13 14       6  7  8  9 10 11 12       3  4  5  6  7  8  9\n",
      "15 16 17 18 19 20 21      13 14 15 16 17 18 19      10 11 12 13 14 15 16\n",
      "22 23 24 25 26 27 28      20 21 22 23 24 25 26      17 18 19 20 21 22 23\n",
      "29 30                     27 28 29 30 31            24 25 26 27 28 29 30\n",
      "\n",
      "        July                     August                  September\n",
      "Mo Tu We Th Fr Sa Su      Mo Tu We Th Fr Sa Su      Mo Tu We Th Fr Sa Su\n",
      " 1  2  3  4  5  6  7                1  2  3  4                         1\n",
      " 8  9 10 11 12 13 14       5  6  7  8  9 10 11       2  3  4  5  6  7  8\n",
      "15 16 17 18 19 20 21      12 13 14 15 16 17 18       9 10 11 12 13 14 15\n",
      "22 23 24 25 26 27 28      19 20 21 22 23 24 25      16 17 18 19 20 21 22\n",
      "29 30 31                  26 27 28 29 30 31         23 24 25 26 27 28 29\n",
      "                                                    30\n",
      "\n",
      "      October                   November                  December\n",
      "Mo Tu We Th Fr Sa Su      Mo Tu We Th Fr Sa Su      Mo Tu We Th Fr Sa Su\n",
      "    1  2  3  4  5  6                   1  2  3                         1\n",
      " 7  8  9 10 11 12 13       4  5  6  7  8  9 10       2  3  4  5  6  7  8\n",
      "14 15 16 17 18 19 20      11 12 13 14 15 16 17       9 10 11 12 13 14 15\n",
      "21 22 23 24 25 26 27      18 19 20 21 22 23 24      16 17 18 19 20 21 22\n",
      "28 29 30 31               25 26 27 28 29 30         23 24 25 26 27 28 29\n",
      "                                                    30 31\n",
      "\n"
     ]
    }
   ],
   "source": [
    "import calendar\n",
    "year = int(input(\"enter year: \"))\n",
    "print(calendar.calendar(year))"
   ]
  },
  {
   "cell_type": "code",
   "execution_count": 24,
   "id": "18632e2d",
   "metadata": {},
   "outputs": [
    {
     "name": "stdout",
     "output_type": "stream",
     "text": [
      "enter cofficient of a: 1\n",
      "enter cofficient of b: -9\n",
      "enter constant: 14\n",
      "equation: 1x^2 + -9x^1 + 14\n",
      "roots are 7.0 , 2.0: \n"
     ]
    }
   ],
   "source": [
    "#Ans4:\n",
    "import math\n",
    "a= input(\"enter cofficient of a: \")\n",
    "b= input(\"enter cofficient of b: \")\n",
    "c= input(\"enter constant: \")\n",
    "print(\"equation: \"+ a +\"x^2 + \" + b +\"x^1 + \" + c)\n",
    "d = int(b)**2 - 4*int(a)*int(c)\n",
    "root1 = (-(int(b))+math.sqrt(d))/2*int(a)\n",
    "root2 = (-(int(b))-math.sqrt(d))/2*int(a)\n",
    "print(\"roots are {} , {}: \".format(root1,root2))"
   ]
  },
  {
   "cell_type": "code",
   "execution_count": 26,
   "id": "47f5b053",
   "metadata": {},
   "outputs": [
    {
     "name": "stdout",
     "output_type": "stream",
     "text": [
      "enter first number: 23\n",
      "enter second number: 21\n",
      "before swap: 23 and 21\n",
      "after swap: 21 and 23\n"
     ]
    }
   ],
   "source": [
    "#Ans5:\n",
    "num1 = int(input(\"enter first number: \"))\n",
    "num2 = int(input(\"enter second number: \"))\n",
    "print(\"before swap: {} and {}\".format(num1,num2))\n",
    "num2 = num1 + num2 \n",
    "num1 = num2 - num1\n",
    "num2 = num2 - num1\n",
    "print(\"after swap: {} and {}\".format(num1,num2))"
   ]
  },
  {
   "cell_type": "code",
   "execution_count": null,
   "id": "97e0710d",
   "metadata": {},
   "outputs": [],
   "source": []
  }
 ],
 "metadata": {
  "kernelspec": {
   "display_name": "Python 3 (ipykernel)",
   "language": "python",
   "name": "python3"
  },
  "language_info": {
   "codemirror_mode": {
    "name": "ipython",
    "version": 3
   },
   "file_extension": ".py",
   "mimetype": "text/x-python",
   "name": "python",
   "nbconvert_exporter": "python",
   "pygments_lexer": "ipython3",
   "version": "3.9.7"
  }
 },
 "nbformat": 4,
 "nbformat_minor": 5
}
