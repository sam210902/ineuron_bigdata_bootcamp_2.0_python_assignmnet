{
 "cells": [
  {
   "cell_type": "code",
   "execution_count": 1,
   "id": "b058225a",
   "metadata": {},
   "outputs": [
    {
     "name": "stdout",
     "output_type": "stream",
     "text": [
      "Hello world!!!\n"
     ]
    }
   ],
   "source": [
    "# Ans1:\n",
    "print(\"Hello world!!!\")"
   ]
  },
  {
   "cell_type": "code",
   "execution_count": 3,
   "id": "4e269317",
   "metadata": {},
   "outputs": [
    {
     "name": "stdout",
     "output_type": "stream",
     "text": [
      "addition of a and b:  43\n",
      "division of a and b:  2.604651162790698\n"
     ]
    }
   ],
   "source": [
    "# Ans2:\n",
    "a = 112\n",
    "b = 43\n",
    "print(\"addition of a and b: \", + b)\n",
    "print(\"division of a and b: \",a / b)"
   ]
  },
  {
   "cell_type": "code",
   "execution_count": 4,
   "id": "1ad4cfec",
   "metadata": {},
   "outputs": [
    {
     "name": "stdout",
     "output_type": "stream",
     "text": [
      "area of triangle is:  1192.5\n"
     ]
    }
   ],
   "source": [
    "#Ans3\n",
    "height = 45\n",
    "length = 53\n",
    "area_of_triangle = (height*length)/2\n",
    "print(\"area of triangle is: \",area_of_triangle)"
   ]
  },
  {
   "cell_type": "code",
   "execution_count": 5,
   "id": "2f8faece",
   "metadata": {},
   "outputs": [
    {
     "name": "stdout",
     "output_type": "stream",
     "text": [
      "values before swap:  45 54\n",
      "values after swap:  54 45\n"
     ]
    }
   ],
   "source": [
    "#Ans4\n",
    "a = 45\n",
    "b = 54\n",
    "temp = 0\n",
    "print(\"values before swap: \",a,b)\n",
    "temp = a\n",
    "a = b\n",
    "b = temp\n",
    "print(\"values after swap: \",a,b)"
   ]
  },
  {
   "cell_type": "code",
   "execution_count": 9,
   "id": "dcc9b229",
   "metadata": {},
   "outputs": [
    {
     "name": "stdout",
     "output_type": "stream",
     "text": [
      "random number is:  62509\n"
     ]
    }
   ],
   "source": [
    "#Ans5\n",
    "import random\n",
    "random_number = random.randint(0,100000)\n",
    "print(\"random number is: \",random_number)"
   ]
  },
  {
   "cell_type": "code",
   "execution_count": null,
   "id": "52ac301a",
   "metadata": {},
   "outputs": [],
   "source": []
  },
  {
   "cell_type": "code",
   "execution_count": null,
   "id": "295d0d55",
   "metadata": {},
   "outputs": [],
   "source": []
  }
 ],
 "metadata": {
  "kernelspec": {
   "display_name": "Python 3 (ipykernel)",
   "language": "python",
   "name": "python3"
  },
  "language_info": {
   "codemirror_mode": {
    "name": "ipython",
    "version": 3
   },
   "file_extension": ".py",
   "mimetype": "text/x-python",
   "name": "python",
   "nbconvert_exporter": "python",
   "pygments_lexer": "ipython3",
   "version": "3.9.7"
  }
 },
 "nbformat": 4,
 "nbformat_minor": 5
}
