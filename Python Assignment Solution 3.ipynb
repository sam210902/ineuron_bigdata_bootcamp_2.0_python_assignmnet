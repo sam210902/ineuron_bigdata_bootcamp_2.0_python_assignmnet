{
 "cells": [
  {
   "cell_type": "markdown",
   "id": "caca1d94",
   "metadata": {},
   "source": [
    "#python assignment 2"
   ]
  },
  {
   "cell_type": "code",
   "execution_count": null,
   "id": "b1f6c13b",
   "metadata": {},
   "outputs": [],
   "source": [
    "Ans1:In Python, object-oriented Programming (OOPs) is a programming paradigm that uses objects and classes in programming.\n",
    "It aims to implement real-world entitieslike inheritance, polymorphisms, encapsulation, etc. in the programming."
   ]
  },
  {
   "cell_type": "code",
   "execution_count": null,
   "id": "5a5932fe",
   "metadata": {},
   "outputs": [],
   "source": [
    "Ans2: An inheritance search looks for an attribute first in the instance object, then in the class the instance was created\n",
    "from,thenin all higher superclasses, progressing from left to right (by default). The search stops at the first place the \n",
    "attribute is found."
   ]
  },
  {
   "cell_type": "code",
   "execution_count": null,
   "id": "b00f07ca",
   "metadata": {},
   "outputs": [],
   "source": [
    "Ans3:A class is a template for creating objects in a program, whereas the object is an instance of a class. A class is a logical\n",
    "entity, while an object is a physical entity. A class does not allocate memory space; on the other hand, an object allocates \n",
    "memory space."
   ]
  },
  {
   "cell_type": "code",
   "execution_count": null,
   "id": "3ed04b37",
   "metadata": {},
   "outputs": [],
   "source": [
    "Ans4:The calling process is automatic while the receiving process is not (its explicit). This is the reason the first parameter\n",
    "of a function in class must be the object itself. Writing this parameter as self is merely a convention. It is not a keyword \n",
    "and has no special meaning in Python"
   ]
  },
  {
   "cell_type": "code",
   "execution_count": null,
   "id": "7e6b2bdd",
   "metadata": {},
   "outputs": [],
   "source": [
    "Ans5:The __init__ method is the Python equivalent of the C++ constructor in an object-oriented approach. The __init__ function \n",
    "is called every time an object is created from a class. The __init__ method lets the class initialize the object's attributes \n",
    "and serves no other purpose"
   ]
  },
  {
   "cell_type": "code",
   "execution_count": null,
   "id": "49b4664e",
   "metadata": {},
   "outputs": [],
   "source": [
    "Ans6:When you create an object, you are creating an instance of a class, therefore \"instantiating\" a class. The new operator\n",
    "requires a single, postfix argument: a call to a constructor. The name of the constructor provides the name of the class to \n",
    "instantiate. The constructor initializes the new object."
   ]
  },
  {
   "cell_type": "code",
   "execution_count": null,
   "id": "e041965d",
   "metadata": {},
   "outputs": [],
   "source": [
    "Ans7:A variable declaration with a variable name with an object type. Instantiation − The 'new' keyword is used to create the \n",
    "object. Initialization − The 'new' keyword is followed by a call to a constructor. This call initializes the new objec"
   ]
  },
  {
   "cell_type": "code",
   "execution_count": null,
   "id": "07608a62",
   "metadata": {},
   "outputs": [],
   "source": [
    "Ans8:A superclass is the class from which many subclasses can be created. The subclasses inherit the characteristics of a \n",
    "superclass. The superclass is also known as the parent class or base class. In the above example, Vehicle is the Superclass and \n",
    "its subclasses are Car, Truck and Motorcycle"
   ]
  },
  {
   "cell_type": "code",
   "execution_count": null,
   "id": "7f3a7134",
   "metadata": {},
   "outputs": [],
   "source": [
    "Ans9: Modules are collections of methods and constants. They cannot generate instances. Classes may generate instances \n",
    "(objects), and have per-instance state (instance variables)."
   ]
  },
  {
   "cell_type": "code",
   "execution_count": null,
   "id": "d7ce6cba",
   "metadata": {},
   "outputs": [],
   "source": [
    "Ans10:To create instances of a class, you call the class using class name and pass in whatever arguments its __init__ \n",
    "method accepts.\n"
   ]
  },
  {
   "cell_type": "code",
   "execution_count": null,
   "id": "bf5a9104",
   "metadata": {},
   "outputs": [],
   "source": [
    "Ans11:A class attribute is shared by all instances of the class. To define a class attribute, we place it outside of the \n",
    "__init__() method"
   ]
  },
  {
   "cell_type": "code",
   "execution_count": null,
   "id": "931677a3",
   "metadata": {},
   "outputs": [],
   "source": [
    "Ans12:Instance attributes are defined in the constructor. Defined directly inside a class. Defined inside a constructor using \n",
    "the self parameter."
   ]
  },
  {
   "cell_type": "code",
   "execution_count": null,
   "id": "9f380f3c",
   "metadata": {},
   "outputs": [],
   "source": [
    "Ans13:The self parameter is a reference to the current instance of the class, and is used to access variables that belongs to \n",
    "the class."
   ]
  },
  {
   "cell_type": "code",
   "execution_count": null,
   "id": "bcca84ef",
   "metadata": {},
   "outputs": [],
   "source": [
    "Ans14:The operator overloading in Python means provide extended meaning beyond their predefined operational meaning. Such as, \n",
    "we use the \"+\" operator for adding two integers as well as joining two strings or merging two lists. We can achieve this as \n",
    "the \"+\" operator is overloaded by the \"int\" class and \"str\" class."
   ]
  },
  {
   "cell_type": "code",
   "execution_count": null,
   "id": "97047be7",
   "metadata": {},
   "outputs": [],
   "source": [
    "Ans15:It allows us to provide an intuitive interface to our class users, plus makes it possible for templates to work equally\n",
    "well with classes and built-in types. "
   ]
  },
  {
   "cell_type": "code",
   "execution_count": null,
   "id": "5bf263fc",
   "metadata": {},
   "outputs": [],
   "source": [
    "Ans16:A very popular and convenient example is the Addition (+) operator. Just think how the '+' operator operates on two \n",
    "numbers and the same operator operates on two strings. It performs “Addition” on numbers whereas it performs “Concatenation” on\n",
    "strings."
   ]
  },
  {
   "cell_type": "code",
   "execution_count": null,
   "id": "c21e172b",
   "metadata": {},
   "outputs": [],
   "source": [
    "Ans17: inheritance and polymorphism. Both inheritance and polymorphism are key ingredients for designing robust, flexible, and \n",
    "easy-to-maintain software. These concepts are best explained via examples. Let's start with creating a simple class."
   ]
  },
  {
   "cell_type": "code",
   "execution_count": null,
   "id": "3ec151a8",
   "metadata": {},
   "outputs": [],
   "source": [
    "Ans18:Exception handling is the process of responding to unwanted or unexpected events when a computer program runs. Exception \n",
    "handling deals with these events to avoid the program or system crashing, and without this process, exceptions would disrupt \n",
    "the normal operation of a program"
   ]
  },
  {
   "cell_type": "code",
   "execution_count": null,
   "id": "fb6e39ec",
   "metadata": {},
   "outputs": [],
   "source": [
    "Ans19:When an exception occurred, if you don't handle it, the program terminates abruptly and the code past the line that \n",
    "caused the exception will not get executed."
   ]
  },
  {
   "cell_type": "code",
   "execution_count": null,
   "id": "8b6c508d",
   "metadata": {},
   "outputs": [],
   "source": [
    "Ans20:We can also provide a generic except clause, which handles any exception. After the except clause(s), you can include an \n",
    "else-clause. The code in the else-block executes if the code in the try: block does not raise an exception. The else-block is a \n",
    "good place for code that does not need the try: block's protection."
   ]
  },
  {
   "cell_type": "code",
   "execution_count": null,
   "id": "9ce2470d",
   "metadata": {},
   "outputs": [],
   "source": [
    "Ans21:To avoid such a scenario, there are two methods to handle Python exceptions: Try – This method catches the exceptions \n",
    "raised by the program. Raise – Triggers an exception manually using custom exceptions."
   ]
  },
  {
   "cell_type": "code",
   "execution_count": null,
   "id": "93e7bbb7",
   "metadata": {},
   "outputs": [],
   "source": [
    "Ans22:Finally block always executes irrespective of an exception being thrown or not. The final keyword allows you to create a \n",
    "block of code that follows a try-catch block. Finally, clause is optional. It is intended to define clean-up actions which \n",
    "should be that executed in all conditions."
   ]
  },
  {
   "cell_type": "code",
   "execution_count": null,
   "id": "a901a38e",
   "metadata": {},
   "outputs": [],
   "source": [
    "Ans23:The try statement allows you to define a block of code to be tested for errors while it is being executed. The catch \n",
    "statement allows you to define a block of code to be executed, if an error occurs in the try block."
   ]
  },
  {
   "cell_type": "code",
   "execution_count": null,
   "id": "fa84e577",
   "metadata": {},
   "outputs": [],
   "source": [
    "Ans24:The Different Try/Except Variations. So far we've used a try / except and even a try / except / except , but this is only \n",
    "two-thirds of the story. There are two other optional segments to a try block: else and finally . Both of these optional blocks \n",
    "will come after the try and the except ."
   ]
  },
  {
   "cell_type": "code",
   "execution_count": null,
   "id": "cb592bde",
   "metadata": {},
   "outputs": [],
   "source": [
    "Ans25:The RAISE statement stops normal execution of a PL/SQL block or subprogram and transfers control to an exception handler. \n",
    "RAISE statements can raise predefined exceptions, such as ZERO_DIVIDE or NO_DATA_FOUND , or user-defined exceptions whose names\n",
    "we decide."
   ]
  },
  {
   "cell_type": "code",
   "execution_count": null,
   "id": "d2a0f184",
   "metadata": {},
   "outputs": [],
   "source": [
    "Ans26:The assert keyword is used when debugging code. The assert keyword lets you test if a condition in your code returns True,\n",
    "if not, the program will raise an AssertionError. You can write a message to be written if the code returns False, check the \n",
    "example below."
   ]
  },
  {
   "cell_type": "code",
   "execution_count": null,
   "id": "96eaa438",
   "metadata": {},
   "outputs": [],
   "source": [
    "Ans27:In Python, with statement is used in exception handling to make the code cleaner and much more readable. It simplifies \n",
    "the management of common resources like file streams."
   ]
  },
  {
   "cell_type": "code",
   "execution_count": null,
   "id": "eef548b2",
   "metadata": {},
   "outputs": [],
   "source": [
    "Ans28:*args specifies the number of non-keyworded arguments that can be passed and the operations that can be performed on the \n",
    "function in Python whereas **kwargs is a variable number of keyworded arguments that can be passed to a function that can \n",
    "perform dictionary operations."
   ]
  },
  {
   "cell_type": "code",
   "execution_count": null,
   "id": "1345339f",
   "metadata": {},
   "outputs": [],
   "source": [
    "Ans29:Users can either pass their values or can pretend the function to use theirs default values which are specified. In this \n",
    "way, the user can call the function by either passing those optional parameters or just passing the required parameters. \n",
    "Without using keyword arguments. By using keyword arguments"
   ]
  },
  {
   "cell_type": "code",
   "execution_count": null,
   "id": "2dbb9bdd",
   "metadata": {},
   "outputs": [],
   "source": [
    "Ans30:Python Lambda Functions are anonymous function means that the function is without a name. As we already know that the def\n",
    "keyword is used to define a normal function in Python. Similarly, the lambda keyword is used to define an anonymous function in \n",
    "Python."
   ]
  },
  {
   "cell_type": "code",
   "execution_count": null,
   "id": "3923ef04",
   "metadata": {},
   "outputs": [],
   "source": [
    "Ans31:Inheritance relationship defines the classes that inherit from other classes as derived, subclass, or sub-type classes. \n",
    "Base class remains to be the source from which a subclass inherits. For example, you have a Base class of “Animal,” and a \n",
    "“Lion” is a Derived class. The inheritance will be Lion is an Animal."
   ]
  },
  {
   "cell_type": "code",
   "execution_count": null,
   "id": "55fc317b",
   "metadata": {},
   "outputs": [],
   "source": [
    "Ans32:Using isinstance() function, we can test whether an object/variable is an instance of the specified type or class such as \n",
    "int or list. In the case of inheritance, we can checks if the specified class is the parent class of an object."
   ]
  },
  {
   "cell_type": "code",
   "execution_count": null,
   "id": "87ca8fd9",
   "metadata": {},
   "outputs": [],
   "source": [
    "Ans33:The nonlocal keyword is used to work with variables inside nested functions, where the variable should not belong to the \n",
    "inner function. Use the keyword nonlocal to declare that the variable is not local."
   ]
  },
  {
   "cell_type": "code",
   "execution_count": null,
   "id": "9d6ca8e7",
   "metadata": {},
   "outputs": [],
   "source": [
    "Ans34:In Python, global keyword allows you to modify the variable outside of the current scope. It is used to create a global \n",
    "variable and make changes to the variable in a local context."
   ]
  }
 ],
 "metadata": {
  "kernelspec": {
   "display_name": "Python 3 (ipykernel)",
   "language": "python",
   "name": "python3"
  },
  "language_info": {
   "codemirror_mode": {
    "name": "ipython",
    "version": 3
   },
   "file_extension": ".py",
   "mimetype": "text/x-python",
   "name": "python",
   "nbconvert_exporter": "python",
   "pygments_lexer": "ipython3",
   "version": "3.9.7"
  }
 },
 "nbformat": 4,
 "nbformat_minor": 5
}
