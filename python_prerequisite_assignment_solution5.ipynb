{
 "cells": [
  {
   "cell_type": "markdown",
   "id": "226e6f59",
   "metadata": {},
   "source": [
    "ANS1"
   ]
  },
  {
   "cell_type": "code",
   "execution_count": 2,
   "id": "4310b96c",
   "metadata": {},
   "outputs": [
    {
     "name": "stdout",
     "output_type": "stream",
     "text": [
      "enter first number: 54\n",
      "enter second number: 24\n",
      "lcm of numbers is:  216\n"
     ]
    }
   ],
   "source": [
    "def lcm(x,y):\n",
    "    largest=x if x>y else  y\n",
    "    while(True):\n",
    "        if(largest%x == 0 and largest%y == 0):\n",
    "            l_c_m=largest\n",
    "            break\n",
    "        else:\n",
    "            largest+=1\n",
    "    return l_c_m\n",
    "\n",
    "num1=int(input(\"enter first number: \"))\n",
    "num2=int(input(\"enter second number: \"))\n",
    "result=lcm(num1,num2)\n",
    "print(\"lcm of numbers is: \",result)"
   ]
  },
  {
   "cell_type": "markdown",
   "id": "680db3b8",
   "metadata": {},
   "source": [
    "ANS2"
   ]
  },
  {
   "cell_type": "code",
   "execution_count": 4,
   "id": "765748c1",
   "metadata": {},
   "outputs": [
    {
     "name": "stdout",
     "output_type": "stream",
     "text": [
      "enter first number: 54\n",
      "enter second number: 24\n",
      "hcf of numbers is:  6\n"
     ]
    }
   ],
   "source": [
    "def hcf(x,y):\n",
    "    smallest=x if(x<y) else y\n",
    "    for i in range(1,smallest+1):\n",
    "        if(x%i ==0 and y%i ==0):\n",
    "            h_c_f=i\n",
    "    return h_c_f\n",
    "\n",
    "num1=int(input(\"enter first number: \"))\n",
    "num2=int(input(\"enter second number: \"))\n",
    "result=hcf(num1,num2)\n",
    "print(\"hcf of numbers is: \",result)\n",
    "            "
   ]
  },
  {
   "cell_type": "markdown",
   "id": "cbe08706",
   "metadata": {},
   "source": [
    "ANS3"
   ]
  },
  {
   "cell_type": "code",
   "execution_count": 5,
   "id": "d54057bc",
   "metadata": {},
   "outputs": [
    {
     "name": "stdout",
     "output_type": "stream",
     "text": [
      "enter a number: 54\n",
      "number in binary,octal,hexadecimal:  0b110110 0o66 0x36\n"
     ]
    }
   ],
   "source": [
    "def convert(x):\n",
    "    num1=bin(x)\n",
    "    num2=oct(x)\n",
    "    num3=hex(x)\n",
    "    \n",
    "    return num1,num2,num3\n",
    "\n",
    "deci=int(input(\"enter a number: \"))\n",
    "result1,result2,result3 = convert(deci)\n",
    "print(\"number in binary,octal,hexadecimal: \",result1,result2,result3)"
   ]
  },
  {
   "cell_type": "markdown",
   "id": "125a2d96",
   "metadata": {},
   "source": [
    "ANS4"
   ]
  },
  {
   "cell_type": "code",
   "execution_count": 13,
   "id": "2fb2f12b",
   "metadata": {},
   "outputs": [
    {
     "name": "stdout",
     "output_type": "stream",
     "text": [
      "enter a character: @\n",
      "ascii code for @ is 64: \n"
     ]
    }
   ],
   "source": [
    "ch=input(\"enter a character: \")\n",
    "ascii_code=ord(ch)\n",
    "print(f\"ascii code for {ch} is {ascii_code}: \")"
   ]
  },
  {
   "cell_type": "markdown",
   "id": "26bde192",
   "metadata": {},
   "source": [
    "ANS5"
   ]
  },
  {
   "cell_type": "code",
   "execution_count": 21,
   "id": "a99eb2d8",
   "metadata": {},
   "outputs": [
    {
     "name": "stdout",
     "output_type": "stream",
     "text": [
      "enter first number: 897\n",
      "enter second number: 364\n",
      "what operation you want: \n",
      "+ for addtion\n",
      "- for subtraction\n",
      " * for multiplictaion\n",
      "/ for division\n",
      "// for floor division:\n",
      "what do you want to perform: +\n",
      "addtion of numbers is:  1261\n",
      "\n",
      "continue:'y' for yes and 'n' for no:y\n",
      "what operation you want: \n",
      "+ for addtion\n",
      "- for subtraction\n",
      " * for multiplictaion\n",
      "/ for division\n",
      "// for floor division:\n",
      "what do you want to perform: -\n",
      "subtraction of numbers is:  533\n",
      "\n",
      "continue:'y' for yes and 'n' for no:y\n",
      "what operation you want: \n",
      "+ for addtion\n",
      "- for subtraction\n",
      " * for multiplictaion\n",
      "/ for division\n",
      "// for floor division:\n",
      "what do you want to perform: *\n",
      "multiplication of numbers is:  326508\n",
      "\n",
      "continue:'y' for yes and 'n' for no:y\n",
      "what operation you want: \n",
      "+ for addtion\n",
      "- for subtraction\n",
      " * for multiplictaion\n",
      "/ for division\n",
      "// for floor division:\n",
      "what do you want to perform: /\n",
      "division of numbers is:  2.4642857142857144\n",
      "\n",
      "continue:'y' for yes and 'n' for no:y\n",
      "what operation you want: \n",
      "+ for addtion\n",
      "- for subtraction\n",
      " * for multiplictaion\n",
      "/ for division\n",
      "// for floor division:\n",
      "what do you want to perform: //\n",
      "floor division of numbers is:  2\n",
      "\n",
      "continue:'y' for yes and 'n' for no:n\n"
     ]
    }
   ],
   "source": [
    "def add(x,y):\n",
    "    return x+y\n",
    "\n",
    "def sub(x,y):\n",
    "    return x-y\n",
    "\n",
    "def mul(x,y):\n",
    "    return x*y\n",
    "\n",
    "def div(x,y):\n",
    "    return x/y\n",
    "\n",
    "def f_div(x,y):\n",
    "    return x//y\n",
    "\n",
    "num1=int(input(\"enter first number: \"))\n",
    "num2=int(input(\"enter second number: \"))\n",
    "cont=\"y\"\n",
    "while(cont=='y'):\n",
    "    print(\"what operation you want: \")\n",
    "    ch=input(\"+ for addtion\\n- for subtraction\\n * for multiplictaion\\n/ for division\\n// for floor division:\\nwhat do you want to perform: \")\n",
    "    if (ch=='+'):\n",
    "        print(\"addtion of numbers is: \",add(num1,num2))\n",
    "    elif (ch=='-'):\n",
    "        print(\"subtraction of numbers is: \",sub(num1,num2))    \n",
    "    elif ch=='*':\n",
    "        print(\"multiplication of numbers is: \",mul(num1,num2))\n",
    "    elif ch=='/':\n",
    "        print(\"division of numbers is: \",div(num1,num2))\n",
    "    elif ch=='//':\n",
    "        print(\"floor division of numbers is: \",f_div(num1,num2))\n",
    "    \n",
    "    cont=input(\"\\ncontinue:'y' for yes and 'n' for no:\")\n",
    "    "
   ]
  },
  {
   "cell_type": "code",
   "execution_count": null,
   "id": "1f392cdc",
   "metadata": {},
   "outputs": [],
   "source": []
  }
 ],
 "metadata": {
  "kernelspec": {
   "display_name": "Python 3 (ipykernel)",
   "language": "python",
   "name": "python3"
  },
  "language_info": {
   "codemirror_mode": {
    "name": "ipython",
    "version": 3
   },
   "file_extension": ".py",
   "mimetype": "text/x-python",
   "name": "python",
   "nbconvert_exporter": "python",
   "pygments_lexer": "ipython3",
   "version": "3.9.7"
  }
 },
 "nbformat": 4,
 "nbformat_minor": 5
}
