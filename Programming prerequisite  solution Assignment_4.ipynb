{
 "cells": [
  {
   "cell_type": "code",
   "execution_count": 1,
   "id": "70eca91e",
   "metadata": {},
   "outputs": [
    {
     "name": "stdout",
     "output_type": "stream",
     "text": [
      "enter a number: 5\n",
      "factorial of  5  is:  120\n"
     ]
    }
   ],
   "source": [
    "#Ans1:\n",
    "num = int(input(\"enter a number: \"))\n",
    "fact = 1\n",
    "for i in range(num,0,-1):\n",
    "    fact = fact * i\n",
    "print(\"factorial of \",num,\" is: \",fact)"
   ]
  },
  {
   "cell_type": "code",
   "execution_count": 2,
   "id": "590ac42e",
   "metadata": {},
   "outputs": [
    {
     "name": "stdout",
     "output_type": "stream",
     "text": [
      "enter a number: 8\n",
      "8  *  1  =  8\n",
      "8  *  2  =  16\n",
      "8  *  3  =  24\n",
      "8  *  4  =  32\n",
      "8  *  5  =  40\n",
      "8  *  6  =  48\n",
      "8  *  7  =  56\n",
      "8  *  8  =  64\n",
      "8  *  9  =  72\n",
      "8  *  10  =  80\n"
     ]
    }
   ],
   "source": [
    "#Ans2\n",
    "num = int(input(\"enter a number: \"))\n",
    "for i in range(1,11):\n",
    "    print(num,\" * \",i,\" = \",num*i)"
   ]
  },
  {
   "cell_type": "code",
   "execution_count": 3,
   "id": "d327892e",
   "metadata": {},
   "outputs": [
    {
     "name": "stdout",
     "output_type": "stream",
     "text": [
      "enter series length: 9\n",
      "0 1 1 2 3 5 8 13 21 "
     ]
    }
   ],
   "source": [
    "#Ans3:\n",
    "length = int(input(\"enter series length: \"))\n",
    "a = 0\n",
    "b = 1\n",
    "print(a, end=' ')\n",
    "print(b, end=' ')\n",
    "while(length - 2 > 0):\n",
    "    c = a + b\n",
    "    print(c, end=' ')\n",
    "    a = b\n",
    "    b = c\n",
    "    length-=1"
   ]
  },
  {
   "cell_type": "code",
   "execution_count": 5,
   "id": "e5291cad",
   "metadata": {},
   "outputs": [
    {
     "name": "stdout",
     "output_type": "stream",
     "text": [
      "enter a number: 153\n",
      "153  is armstrong number\n"
     ]
    }
   ],
   "source": [
    "#Ans4:\n",
    "import math\n",
    "def armstrong(n):\n",
    "    temp = n\n",
    "    sum = 0\n",
    "    num = 0\n",
    "    while(n > 0):\n",
    "        num = n % 10\n",
    "        sum = sum + math.pow(num,3)\n",
    "        n = n // 10\n",
    "    if sum == temp:\n",
    "        print(temp,\" is armstrong number\")\n",
    "    else:\n",
    "        print(temp,\" is not armstrong number\")\n",
    "\n",
    "num = int(input(\"enter a number: \"))\n",
    "armstrong(num)"
   ]
  },
  {
   "cell_type": "code",
   "execution_count": 7,
   "id": "84c7de8f",
   "metadata": {},
   "outputs": [
    {
     "name": "stdout",
     "output_type": "stream",
     "text": [
      "Enter the lower value of range: 100\n",
      "Enter the higher value of range: 1000\n",
      "\n",
      "From 100 to 1000 following are the Armstrong Number:\n",
      "153  is armstrong number\n",
      "370  is armstrong number\n",
      "371  is armstrong number\n",
      "407  is armstrong number\n"
     ]
    }
   ],
   "source": [
    "#Ans5:\n",
    "import math\n",
    "def armstrong(n):\n",
    "    temp = n\n",
    "    sum = 0\n",
    "    num = 0\n",
    "    while(n > 0):\n",
    "        num = n % 10\n",
    "        sum = sum + math.pow(num,3)\n",
    "        n = n // 10\n",
    "    if sum == temp:\n",
    "        print(temp,\" is armstrong number\")\n",
    "#     else:\n",
    "#         print(temp,\" is not armstrong number\")\n",
    "low = int(input(\"Enter the lower value of range: \"))\n",
    "high = int(input(\"Enter the higher value of range: \"))\n",
    "\n",
    "print(\"\\nFrom {} to {} following are the Armstrong Number:\".format(low, high), end='\\n')\n",
    "for i in range(low, high+1):\n",
    "    \n",
    "    if(armstrong(i)):\n",
    "        print(i, end = ' ')"
   ]
  },
  {
   "cell_type": "code",
   "execution_count": 10,
   "id": "b829846a",
   "metadata": {},
   "outputs": [
    {
     "name": "stdout",
     "output_type": "stream",
     "text": [
      "enter a number: 200\n",
      "sum:  20100\n"
     ]
    }
   ],
   "source": [
    "#Ans6:\n",
    "num = int(input(\"enter a number: \"))\n",
    "sum = 0\n",
    "for i in range(1,num+1):\n",
    "    sum+=i\n",
    "print(\"sum: \",sum)"
   ]
  }
 ],
 "metadata": {
  "kernelspec": {
   "display_name": "Python 3 (ipykernel)",
   "language": "python",
   "name": "python3"
  },
  "language_info": {
   "codemirror_mode": {
    "name": "ipython",
    "version": 3
   },
   "file_extension": ".py",
   "mimetype": "text/x-python",
   "name": "python",
   "nbconvert_exporter": "python",
   "pygments_lexer": "ipython3",
   "version": "3.9.7"
  }
 },
 "nbformat": 4,
 "nbformat_minor": 5
}
