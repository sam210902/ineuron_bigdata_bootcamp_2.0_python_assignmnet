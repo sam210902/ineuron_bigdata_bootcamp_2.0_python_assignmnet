{
 "cells": [
  {
   "cell_type": "code",
   "execution_count": null,
   "id": "c7a011b8",
   "metadata": {},
   "outputs": [],
   "source": [
    "#python assignment 1"
   ]
  },
  {
   "cell_type": "code",
   "execution_count": null,
   "id": "c32d5169",
   "metadata": {},
   "outputs": [],
   "source": [
    "Q1. Why do we call Python as a general purpose and high-level programming language?\n",
    "\n",
    "Ans1:Python is a interepreted language and it is very easy to write code in python because of its code simplicity. We can write\n",
    "    code in simple english world. It is knoen as high level language because it converts english code into machine code which is\n",
    "    easily understood by computer i.e 0, and 1. It is general purpose language because it can be use in:\n",
    "        ->web development\n",
    "        ->data domains like data analyst,data scientist,big data etc.\n",
    "        ->android development\n",
    "        ->machine learning etc..\n",
    "\n",
    "Q2. Why is Python called a dynamically typed language?\n",
    "    \n",
    "Ans2: Pyhton is called dynamically typed language because in python variables type is determined at run time i.e at run time \n",
    "      compiler will come to know about the type of variable.\n",
    "        \n",
    "Q3. List some pros and cons of Python programming language?\n",
    "\n",
    "Ans3: Pros:\n",
    "        ->Python is extremely beginner-friendly and relatively easy to learn\n",
    "        ->The clear, concise syntax simplifies and speeds up not only learning Python \n",
    "        ->Its standard library grants a lot of pre-built features that allow programmers to work with Internet protocols,\n",
    "           manage operating systems, manipulate data etc..\n",
    "        -> Python leads the pack in deep learning thanks to the vast collection of dedicated libraries\n",
    "     Cons:\n",
    "        ->It can’t boast the same results in speed of execution, lagging behind C ++ and Java.\n",
    "        ->Python programs tend to run out of memory. Developers have to make an extra effort to pinpoint the sources of the \n",
    "          problem and enhance memory management\n",
    "        ->It uses a lot of battery charge, so if you’re coding in Python, you would probably very quickly run down your battery \n",
    "          and quickly run out of memory\n",
    "            \n",
    "Q4. In what all domains can we use Python?\n",
    "\n",
    "Ans4: Domains in which we can use pytoh are:\n",
    "        ->web development\n",
    "        ->data domains like data analyst,data scientist,big data etc.\n",
    "        ->android development\n",
    "        ->machine learning etc..\n",
    "        \n",
    "Q5. What are variable and how can we declare them?\n",
    "\n",
    "Ans5: Variables are something that holds values like integer , float ,string ,boolean etc.\n",
    "      We can declare variables as:\n",
    "            variable_name = value\n",
    "            ex: x = 5\n",
    "                y = 8.45\n",
    "                z = \"samarth\"\n",
    "                w = True etc...\n",
    "                "
   ]
  },
  {
   "cell_type": "code",
   "execution_count": 2,
   "id": "49d574bf",
   "metadata": {},
   "outputs": [
    {
     "name": "stdout",
     "output_type": "stream",
     "text": [
      "enter your name: Samarth Goyal\n",
      "your name is :  Samarth Goyal\n"
     ]
    }
   ],
   "source": [
    "Q6. How can we take an input from the user in Python?\n",
    "\n",
    "Ans6: We can take from user using input().\n",
    "      ex: \n",
    "name = input(\"enter your name: \")\n",
    "print(\"your name is : \",name)"
   ]
  },
  {
   "cell_type": "code",
   "execution_count": null,
   "id": "3fd14c29",
   "metadata": {},
   "outputs": [],
   "source": [
    "Q7. What is the default datatype of the value that has been taken as an input using input() function?\n",
    "\n",
    "Ans7: String is the default datatype of the value that has been taken as an input using input() function.\n",
    "    \n",
    "Q8. What is type casting?\n",
    "\n",
    "Ans8: Type casting is a method of converting a data type into another data type. Like converting int to float or\n",
    "      float to int or int to string and etc..\n",
    "        \n",
    "Q9. Can we take more than one input from the user using single input() function? If yes, how? If no, why?\n",
    "\n",
    "Ans9: We can not take more than one input from user using single input() function because single input() functon take atlest one\n",
    "      input at a time.\n",
    "        \n",
    "Q10. What are keywords?\n",
    "\n",
    "Ans10: Keyword are the special word which have special meaning in python ,they have pre defined value whch can not be changed.\n",
    "   \n",
    "Q11. Can we use keywords as a variable? Support your answer with reason.\n",
    "\n",
    "Ans11: No,Keyword are the special word which have special meaning in python ,they have pre defined value whch can \n",
    "       not be changed.\n",
    "        \n",
    "Q12. What is indentation? What's the use of indentaion in Python?\n",
    "\n",
    "Ans12: Indentation is a space given before writing a certain code. It is not so important in other programming \n",
    "       language like C, C++, etc. But it has a major role in python. Python uses indentation to indicate a block of code.\n",
    "        \n",
    "Q13. How can we throw some output in Python?\n",
    "\n",
    "Ans13: With the use of print() function we can throw output in python.\n",
    "    \n",
    "Q14. What are operators in Python?\n",
    "\n",
    "Ans14: OPERATORS: Are the special symbols. Eg- + , * , /, etc.\n",
    "       OPERAND: It is the value on which the operator is applied.\n",
    "        \n",
    "Q15. What is difference between / and // operators?\n",
    "\n",
    "Ans15: \"/\" operator is use for float division and \"//\" is use for integer division.\n",
    "    \n"
   ]
  },
  {
   "cell_type": "code",
   "execution_count": 4,
   "id": "c509a026",
   "metadata": {},
   "outputs": [
    {
     "name": "stdout",
     "output_type": "stream",
     "text": [
      "iNeuroniNeuroniNeuroniNeuron\n"
     ]
    }
   ],
   "source": [
    "Q16. Write a code that gives following as an output.\n",
    "```\n",
    "iNeuroniNeuroniNeuroniNeuron\n",
    "```\n",
    "Ans16: \n",
    "print(\"iNeuron\"*4)\n"
   ]
  },
  {
   "cell_type": "code",
   "execution_count": 7,
   "id": "c06bfa92",
   "metadata": {},
   "outputs": [
    {
     "name": "stdout",
     "output_type": "stream",
     "text": [
      "enter a number: 4842\n",
      "4842  is even.\n"
     ]
    }
   ],
   "source": [
    "Q17. Write a code to take a number as an input from the user and check if the number is odd or even.\n",
    "\n",
    "Ans17:\n",
    "number = int(input(\"enter a number: \"))\n",
    "if number % 2 == 0:\n",
    "    print(number,\" is even.\")\n",
    "else:\n",
    "    print(number,\" is odd.\")"
   ]
  },
  {
   "cell_type": "code",
   "execution_count": null,
   "id": "d23e569d",
   "metadata": {},
   "outputs": [],
   "source": [
    "Q18. What are boolean operator?\n",
    "\n",
    "Ans18: Boolean Operators are simple words (AND, OR, NOT or AND NOT) used as conjunctions to combine or exclude \n",
    "       keywords in a search, resulting in more focused and productive results. "
   ]
  },
  {
   "cell_type": "code",
   "execution_count": 8,
   "id": "c67008f7",
   "metadata": {},
   "outputs": [
    {
     "name": "stdout",
     "output_type": "stream",
     "text": [
      "1 or 0:  1\n",
      "0 and 0:  0\n",
      "True and False and True :  False\n",
      "1 or 0 or 0:  1\n"
     ]
    }
   ],
   "source": [
    "Q19. What will the output of the following?\n",
    "```\n",
    "1 or 0\n",
    "\n",
    "0 and 0\n",
    "\n",
    "True and False and True\n",
    "\n",
    "1 or 0 or 0\n",
    "```\n",
    "Ans19:\n",
    "print(\"1 or 0: \",1 or 0)\n",
    "print(\"0 and 0: \",0 and 0)\n",
    "print(\"True and False and True : \",True and False and True)\n",
    "print(\"1 or 0 or 0: \",1 or 0 or 0)"
   ]
  },
  {
   "cell_type": "code",
   "execution_count": null,
   "id": "c9046138",
   "metadata": {},
   "outputs": [],
   "source": [
    "Q20. What are conditional statements in Python?\n",
    "\n",
    "Ans20: ->If Conditional Statement in Python.\n",
    "       ->Else Statement in Python.\n",
    "       ->Elif Conditional Statement in Python\n",
    "    \n",
    "Q21. What is use of 'if', 'elif' and 'else' keywords?\n",
    "\n",
    "Ans21: if statement:\n",
    "        If the condition following the keyword if evaluates as true, the block of code will execute\n",
    "       else statement:\n",
    "        we can optionally add an else response that will execute if the condition is false\n",
    "       elif statement:\n",
    "        Multiple conditions can be checked by including one or more elif checks after our initial if statement"
   ]
  },
  {
   "cell_type": "code",
   "execution_count": 10,
   "id": "968160ee",
   "metadata": {},
   "outputs": [
    {
     "name": "stdout",
     "output_type": "stream",
     "text": [
      "enter your age: 23\n",
      "I can vote.\n"
     ]
    }
   ],
   "source": [
    "Q22. Write a code to take the age of person as an input and if age >= 18 display \"I can vote\". \n",
    "     If age is < 18 display \"I can't vote\".\n",
    "    \n",
    "Ans22:\n",
    "age = int(input(\"enter your age: \"))\n",
    "if age >= 18:\n",
    "    print(\"I can vote.\")\n",
    "else:\n",
    "    print(\"I can't vote.\")"
   ]
  },
  {
   "cell_type": "code",
   "execution_count": 1,
   "id": "af3a7b43",
   "metadata": {},
   "outputs": [
    {
     "name": "stdout",
     "output_type": "stream",
     "text": [
      "sum is:  1137\n"
     ]
    }
   ],
   "source": [
    "# Q23. Write a code that displays the sum of all the even numbers from the given list.\n",
    "# ```\n",
    "numbers = [12, 75, 150, 180, 145, 525, 50]\n",
    "\n",
    "#Ans23:\n",
    "sum_of_numbers = sum(numbers)\n",
    "print(\"sum is: \",sum_of_numbers)"
   ]
  },
  {
   "cell_type": "code",
   "execution_count": 18,
   "id": "e4cdc9ed",
   "metadata": {},
   "outputs": [
    {
     "name": "stdout",
     "output_type": "stream",
     "text": [
      "enter first number: 23\n",
      "enter second number: 43\n",
      "enter third number: 12\n",
      "43  is greater\n"
     ]
    }
   ],
   "source": [
    "# Q24. Write a code to take 3 numbers as an input from the user and display the greatest no as output.\n",
    "\n",
    "# Ans24:\n",
    "a = int(input(\"enter first number: \"))\n",
    "b = int(input(\"enter second number: \"))\n",
    "c = int(input(\"enter third number: \"))\n",
    "if a > b and a > c:\n",
    "    print(a,\" is greater\")\n",
    "elif b > c:\n",
    "    print(b,\" is greater\")\n",
    "else:\n",
    "    print(c,\" is greater\")"
   ]
  },
  {
   "cell_type": "code",
   "execution_count": 2,
   "id": "3e0fce5a",
   "metadata": {},
   "outputs": [
    {
     "name": "stdout",
     "output_type": "stream",
     "text": [
      "75\n",
      "150\n",
      "145\n",
      "50\n"
     ]
    }
   ],
   "source": [
    "# Q25. Write a program to display only those numbers from a list that satisfy the following conditions\n",
    "\n",
    "# - The number must be divisible by five\n",
    "\n",
    "# - If the number is greater than 150, then skip it and move to the next number\n",
    "\n",
    "# - If the number is greater than 500, then stop the loop\n",
    "\n",
    "numbers = [12, 75, 150, 180, 145, 525, 50]\n",
    "\n",
    "#Ans25:\n",
    "numbers = [12,75,150,145,180,525,50]\n",
    "for x in range(0,len(numbers)):\n",
    "    if numbers[x] % 5 == 0:\n",
    "        if numbers[x] > 150:\n",
    "            continue\n",
    "        if numbers[x] <= 500:\n",
    "            print(numbers[x])\n",
    "        else:\n",
    "            break"
   ]
  },
  {
   "cell_type": "code",
   "execution_count": null,
   "id": "723a31f3",
   "metadata": {},
   "outputs": [],
   "source": []
  }
 ],
 "metadata": {
  "kernelspec": {
   "display_name": "Python 3 (ipykernel)",
   "language": "python",
   "name": "python3"
  },
  "language_info": {
   "codemirror_mode": {
    "name": "ipython",
    "version": 3
   },
   "file_extension": ".py",
   "mimetype": "text/x-python",
   "name": "python",
   "nbconvert_exporter": "python",
   "pygments_lexer": "ipython3",
   "version": "3.9.7"
  }
 },
 "nbformat": 4,
 "nbformat_minor": 5
}
